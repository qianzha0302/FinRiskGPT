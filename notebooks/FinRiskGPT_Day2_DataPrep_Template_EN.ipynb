{
 "cells": [
  {
   "cell_type": "markdown",
   "metadata": {},
   "source": [
    "# 📄 FinRiskGPT - Day 2: Data Preparation & Text Extraction\n",
    "This notebook helps you extract raw text from SEC 10-K PDF reports and prepare them for LLM-based processing."
   ],
   "id": "fee4993d28d554ee"
  },
  {
   "cell_type": "code",
   "metadata": {
    "ExecuteTime": {
     "end_time": "2025-04-15T01:12:42.901286Z",
     "start_time": "2025-04-15T01:12:39.098677Z"
    }
   },
   "source": [
    "# ✅ Install required library (only once needed)\n",
    "!pip install PyMuPDF"
   ],
   "id": "8ef957cb04b5eed4",
   "outputs": [
    {
     "name": "stdout",
     "output_type": "stream",
     "text": [
      "Collecting PyMuPDF\r\n",
      "  Downloading pymupdf-1.25.5-cp39-abi3-macosx_10_9_x86_64.whl (19.4 MB)\r\n",
      "\u001B[2K     \u001B[90m━━━━━━━━━━━━━━━━━━━━━━━━━━━━━━━━━━━━━━━━\u001B[0m \u001B[32m19.4/19.4 MB\u001B[0m \u001B[31m29.5 MB/s\u001B[0m eta \u001B[36m0:00:00\u001B[0m00:01\u001B[0m00:01\u001B[0m\r\n",
      "\u001B[?25hInstalling collected packages: PyMuPDF\r\n",
      "Successfully installed PyMuPDF-1.25.5\r\n"
     ]
    }
   ],
   "execution_count": 1
  },
  {
   "cell_type": "code",
   "metadata": {
    "ExecuteTime": {
     "end_time": "2025-04-15T01:38:06.210822Z",
     "start_time": "2025-04-15T01:38:06.208012Z"
    }
   },
   "source": [
    "# ✅ Import libraries\n",
    "import fitz  # PyMuPDF\n",
    "import os\n",
    "from pathlib import Path"
   ],
   "id": "e13be7c0d75fb6f6",
   "outputs": [],
   "execution_count": 23
  },
  {
   "cell_type": "markdown",
   "metadata": {},
   "source": [
    "## 📥 Step 1: Define the PDF text extraction function"
   ],
   "id": "c4754ef7f31ad2a7"
  },
  {
   "cell_type": "code",
   "metadata": {
    "ExecuteTime": {
     "end_time": "2025-04-15T01:41:14.954140Z",
     "start_time": "2025-04-15T01:41:14.949467Z"
    }
   },
   "source": [
    "def extract_text_from_pdf(pdf_path, output_txt_path):\n",
    "    doc = fitz.open(pdf_path)\n",
    "    text = \"\"\n",
    "    for page in doc:\n",
    "        text += page.get_text()\n",
    "    with open(output_txt_path, \"w\", encoding=\"utf-8\") as f:\n",
    "        f.write(text)\n",
    "    print(f\"✅ Extracted to {output_txt_path}\")"
   ],
   "id": "23a708fff6472fd8",
   "outputs": [],
   "execution_count": 28
  },
  {
   "cell_type": "markdown",
   "metadata": {},
   "source": [
    "## 🚀 Step 2: Run extraction - replace with your PDF file path"
   ],
   "id": "f4e8b9c6508b4173"
  },
  {
   "cell_type": "code",
   "metadata": {
    "ExecuteTime": {
     "end_time": "2025-04-15T01:45:08.028192Z",
     "start_time": "2025-04-15T01:45:07.077590Z"
    }
   },
   "source": [
    "# Place your 10-K PDF file in the data/raw folder\n",
    "pdf_file = \"raw data/tsla-20241231.pdf\"\n",
    "txt_file = \"data processed/tsla-20241231.txt\"\n",
    "extract_text_from_pdf(pdf_file, txt_file)"
   ],
   "id": "3888b01d1b749e1c",
   "outputs": [
    {
     "name": "stdout",
     "output_type": "stream",
     "text": [
      "✅ Extracted to data processed/tsla-20241231.txt\n"
     ]
    }
   ],
   "execution_count": 51
  },
  {
   "cell_type": "markdown",
   "metadata": {},
   "source": [
    "## 📑 Step 3: Split text into paragraphs for embedding"
   ],
   "id": "d056c754766b57ac"
  },
  {
   "metadata": {
    "ExecuteTime": {
     "end_time": "2025-04-15T01:45:09.872951Z",
     "start_time": "2025-04-15T01:45:09.869222Z"
    }
   },
   "cell_type": "code",
   "source": [
    "with open(txt_file, \"r\", encoding=\"utf-8\") as f:\n",
    "    sample = f.read(1000)\n",
    "print(sample)\n"
   ],
   "id": "9abd503da0030c2",
   "outputs": [
    {
     "name": "stdout",
     "output_type": "stream",
     "text": [
      "UNITED STATES\n",
      "SECURITIES AND EXCHANGE COMMISSION\n",
      "Washington, D.C. 20549\n",
      "FORM 10-K\n",
      "(Mark One)\n",
      "\n",
      "ANNUAL REPORT PURSUANT TO SECTION 13 OR 15(d) OF THE SECURITIES EXCHANGE ACT OF 1934\n",
      "For the fiscal year ended December 31, 2024\n",
      "OR\n",
      "\n",
      "TRANSITION REPORT PURSUANT TO SECTION 13 OR 15(d) OF THE SECURITIES EXCHANGE ACT OF 1934\n",
      "For the transition period from _________ to _________\n",
      "Commission File Number: 001-34756\n",
      "Tesla, Inc.\n",
      "(Exact name of registrant as specified in its charter)\n",
      "Texas\n",
      "91-2197729\n",
      "(State or other jurisdiction of\n",
      "incorporation or organization)\n",
      "(I.R.S. Employer\n",
      "Identification No.)\n",
      "1 Tesla Road\n",
      "Austin, Texas\n",
      "78725\n",
      "(Address of principal executive offices)\n",
      "(Zip Code)\n",
      "(512) 516-8177\n",
      "(Registrant’s telephone number, including area code)\n",
      "Securities registered pursuant to Section 12(b) of the Act:\n",
      "Title of each class\n",
      "Trading Symbol(s)\n",
      "Name of each exchange on which registered\n",
      "Common stock\n",
      "TSLA\n",
      "The Nasdaq Global Select Market\n",
      "Securities registered pursuant to Section 12(g) of the Act:\n",
      "None\n",
      "In\n"
     ]
    }
   ],
   "execution_count": 52
  },
  {
   "metadata": {
    "ExecuteTime": {
     "end_time": "2025-04-15T01:45:13.429943Z",
     "start_time": "2025-04-15T01:45:13.424559Z"
    }
   },
   "cell_type": "code",
   "source": [
    "import re\n",
    "\n",
    "def split_paragraphs(text_path, min_len=100):\n",
    "    with open(text_path, \"r\", encoding=\"utf-8\") as f:\n",
    "        text = f.read()\n",
    "    \n",
    "    # 使用正则表达式兼容不同换行格式，空行分段\n",
    "    raw_paragraphs = re.split(r\"\\n\\s*\\n\", text)\n",
    "    \n",
    "    paragraphs = [p.strip() for p in raw_paragraphs if len(p.strip()) > min_len]\n",
    "    print(f\"✅ Parsed {len(paragraphs)} paragraphs.\")\n",
    "    return paragraphs"
   ],
   "id": "499e1a217a3d4db6",
   "outputs": [],
   "execution_count": 53
  },
  {
   "metadata": {
    "ExecuteTime": {
     "end_time": "2025-04-15T01:45:16.586533Z",
     "start_time": "2025-04-15T01:45:16.581007Z"
    }
   },
   "cell_type": "code",
   "source": [
    "# Run the splitter\n",
    "paragraphs = split_paragraphs(txt_file)"
   ],
   "id": "5b0fd72219ce06d8",
   "outputs": [
    {
     "name": "stdout",
     "output_type": "stream",
     "text": [
      "✅ Parsed 37 paragraphs.\n"
     ]
    }
   ],
   "execution_count": 54
  },
  {
   "metadata": {},
   "cell_type": "code",
   "outputs": [],
   "execution_count": null,
   "source": "",
   "id": "be06808f09dfc728"
  },
  {
   "metadata": {
    "ExecuteTime": {
     "end_time": "2025-04-15T01:45:21.039012Z",
     "start_time": "2025-04-15T01:45:21.034318Z"
    }
   },
   "cell_type": "code",
   "source": [
    "import json\n",
    "\n",
    "def save_paragraphs_to_json(paragraphs, output_json_path):\n",
    "    # 将所有段落组成一个列表字典结构\n",
    "    data = [\n",
    "        {\"id\": f\"para_{i}\", \"text\": p}\n",
    "        for i, p in enumerate(paragraphs)\n",
    "    ]\n",
    "    \n",
    "    # 保存为 JSON 文件\n",
    "    with open(output_json_path, \"w\", encoding=\"utf-8\") as f:\n",
    "        json.dump(data, f, indent=2, ensure_ascii=False)\n",
    "    \n",
    "    print(f\"✅ Saved {len(data)} paragraphs to {output_json_path}\")\n"
   ],
   "id": "713602fb640d011",
   "outputs": [],
   "execution_count": 55
  },
  {
   "metadata": {
    "ExecuteTime": {
     "end_time": "2025-04-15T01:45:24.157991Z",
     "start_time": "2025-04-15T01:45:24.149818Z"
    }
   },
   "cell_type": "code",
   "source": [
    "output_json_path = \"data processed/tsla-20241231.json\"\n",
    "save_paragraphs_to_json(paragraphs, output_json_path)\n"
   ],
   "id": "bd8adb1215d31123",
   "outputs": [
    {
     "name": "stdout",
     "output_type": "stream",
     "text": [
      "✅ Saved 37 paragraphs to data processed/tsla-20241231.json\n"
     ]
    }
   ],
   "execution_count": 56
  }
 ],
 "metadata": {
  "kernelspec": {
   "display_name": "Python 3",
   "language": "python",
   "name": "python3"
  },
  "language_info": {
   "name": "python",
   "version": "3.9"
  }
 },
 "nbformat": 4,
 "nbformat_minor": 5
}
